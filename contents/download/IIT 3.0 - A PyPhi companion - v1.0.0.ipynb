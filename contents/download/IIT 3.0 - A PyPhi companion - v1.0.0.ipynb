{
 "cells": [
  {
   "cell_type": "markdown",
   "metadata": {},
   "source": [
    "IIT 3.0\n",
    "====\n",
    "A PyPhi companion\n",
    "----------------\n",
    "\n",
    "---\n",
    "\n",
    "This IPython notebook is meant to serve as a companion to the paper [From the\n",
    "Phenomenology to the Mechanisms of Consciousness: Integrated Information\n",
    "Theory\n",
    "3.0](http://journals.plos.org/ploscompbiol/article?id=10.1371/journal.pcbi.1003588)\n",
    "by Oizumi, Albantakis, and Tononi, and as a demonstration of how to use\n",
    "PyPhi. Readers are encouraged to follow along and analyze the systems\n",
    "shown in the figures, hopefully becoming more familiar with both the\n",
    "theory and the software in the process.\n",
    "\n",
    "First, we'll import PyPhi and NumPy:"
   ]
  },
  {
   "cell_type": "code",
   "execution_count": 1,
   "metadata": {
    "collapsed": true
   },
   "outputs": [],
   "source": [
    "import pyphi \n",
    "import numpy as np"
   ]
  },
  {
   "cell_type": "markdown",
   "metadata": {},
   "source": [
    "---\n",
    "\n",
    "Figure 1\n",
    "--------\n",
    "\n",
    "**Existence: Mechanisms in a state having causal power.**\n",
    "\n",
    "For the first figure, we'll demonstrate how to set up a network and a\n",
    "candidate set. In PyPhi, networks are built by specifying a transition\n",
    "probability matrix and (optionally) a connectivity matrix. (If no\n",
    "connectivity matrix is given, full connectivity is assumed.) So, to set\n",
    "up the system shown in Figure 1, we'll start by defining its TPM.\n",
    "\n",
    "In the figure, the TPM is shown only for the candidate set. We'll define\n",
    "the entire network's TPM. Also, nodes $D, E$ and $F$ are not assigned\n",
    "mechanisms; for the purposes of this example we will assume they are\n",
    "**OR** gates. With that assumption, we get the following TPM:"
   ]
  },
  {
   "cell_type": "code",
   "execution_count": 2,
   "metadata": {
    "collapsed": false,
    "scrolled": true
   },
   "outputs": [
    {
     "name": "stdout",
     "output_type": "stream",
     "text": [
      "[[ 0.  0.  0.  0.  0.  0.]\n",
      " [ 0.  0.  1.  0.  0.  0.]\n",
      " [ 1.  0.  1.  0.  1.  0.]\n",
      " [ 1.  0.  0.  0.  1.  0.]\n",
      " [ 1.  0.  0.  0.  0.  0.]\n",
      " [ 1.  1.  1.  0.  0.  0.]\n",
      " [ 1.  0.  1.  0.  1.  0.]\n",
      " [ 1.  1.  0.  0.  1.  0.]\n",
      " [ 1.  0.  0.  0.  0.  0.]\n",
      " [ 1.  0.  1.  0.  0.  0.]\n",
      " [ 1.  0.  1.  0.  1.  0.]\n",
      " [ 1.  0.  0.  0.  1.  0.]\n",
      " [ 1.  0.  0.  0.  0.  0.]\n",
      " [ 1.  1.  1.  0.  0.  0.]\n",
      " [ 1.  0.  1.  0.  1.  0.]\n",
      " [ 1.  1.  0.  0.  1.  0.]\n",
      " [ 0.  0.  0.  0.  0.  0.]\n",
      " [ 0.  0.  1.  0.  0.  0.]\n",
      " [ 1.  0.  1.  0.  1.  0.]\n",
      " [ 1.  0.  0.  0.  1.  0.]\n",
      " [ 1.  0.  0.  0.  0.  0.]\n",
      " [ 1.  1.  1.  0.  0.  0.]\n",
      " [ 1.  0.  1.  0.  1.  0.]\n",
      " [ 1.  1.  0.  0.  1.  0.]\n",
      " [ 1.  0.  0.  0.  0.  0.]\n",
      " [ 1.  0.  1.  0.  0.  0.]\n",
      " [ 1.  0.  1.  0.  1.  0.]\n",
      " [ 1.  0.  0.  0.  1.  0.]\n",
      " [ 1.  0.  0.  0.  0.  0.]\n",
      " [ 1.  1.  1.  0.  0.  0.]\n",
      " [ 1.  0.  1.  0.  1.  0.]\n",
      " [ 1.  1.  0.  0.  1.  0.]\n",
      " [ 0.  0.  0.  0.  0.  0.]\n",
      " [ 0.  0.  1.  0.  0.  0.]\n",
      " [ 1.  0.  1.  0.  1.  0.]\n",
      " [ 1.  0.  0.  0.  1.  0.]\n",
      " [ 1.  0.  0.  0.  0.  0.]\n",
      " [ 1.  1.  1.  0.  0.  0.]\n",
      " [ 1.  0.  1.  0.  1.  0.]\n",
      " [ 1.  1.  0.  0.  1.  0.]\n",
      " [ 1.  0.  0.  0.  0.  0.]\n",
      " [ 1.  0.  1.  0.  0.  0.]\n",
      " [ 1.  0.  1.  0.  1.  0.]\n",
      " [ 1.  0.  0.  0.  1.  0.]\n",
      " [ 1.  0.  0.  0.  0.  0.]\n",
      " [ 1.  1.  1.  0.  0.  0.]\n",
      " [ 1.  0.  1.  0.  1.  0.]\n",
      " [ 1.  1.  0.  0.  1.  0.]\n",
      " [ 0.  0.  0.  0.  0.  0.]\n",
      " [ 0.  0.  1.  0.  0.  0.]\n",
      " [ 1.  0.  1.  0.  1.  0.]\n",
      " [ 1.  0.  0.  0.  1.  0.]\n",
      " [ 1.  0.  0.  0.  0.  0.]\n",
      " [ 1.  1.  1.  0.  0.  0.]\n",
      " [ 1.  0.  1.  0.  1.  0.]\n",
      " [ 1.  1.  0.  0.  1.  0.]\n",
      " [ 1.  0.  0.  0.  0.  0.]\n",
      " [ 1.  0.  1.  0.  0.  0.]\n",
      " [ 1.  0.  1.  0.  1.  0.]\n",
      " [ 1.  0.  0.  0.  1.  0.]\n",
      " [ 1.  0.  0.  0.  0.  0.]\n",
      " [ 1.  1.  1.  0.  0.  0.]\n",
      " [ 1.  0.  1.  0.  1.  0.]\n",
      " [ 1.  1.  0.  0.  1.  0.]]\n"
     ]
    }
   ],
   "source": [
    "tpm = pyphi.examples.fig1a().tpm\n",
    "print(tpm.reshape(-1, tpm.shape[-1], order='f'))"
   ]
  },
  {
   "cell_type": "markdown",
   "metadata": {},
   "source": [
    "> **Note:**\n",
    "> The TPM in the figure is given in **state-by-state** form; there is a row and a column for each state. However, in PyPhi, we use a more  compact representation: **state-by-node** form, in which there is a row for each state, but a column for each node. The $i,j^{\\textrm{th}}$ entry gives the probability that the $j^{\\textrm{th}}$ node is on in the $i^{\\textrm{th}}$ state. \n",
    ">\n",
    "> Furthermore, in PyPhi the state-by-node TPM is represented in multi-dimensional form, rather than 2-dimensional, with one dimension per node and a final dimension containing the probabilities of future nodes.\n",
    "> \n",
    "> The above cell prints the TPM in 2-dimensional form.\n",
    ">\n",
    "> For more information on how TPMs are represented in PyPhi, see the documentation for the [`pyphi.network`](http://pyphi.readthedocs.io/en/stable/api/network.html) module and the explanation of [LOLI convention](http://pyphi.readthedocs.io/en/stable/conventions.html#loli-low-order-bits-correspond-to-low-index-nodes) (which necessitates the `order='f'` argument to `reshape`).\n",
    "\n",
    "Next we'll define the connectivity matrix. In PyPhi, the $i,j^{\\textrm{th}}$ entry\n",
    "in a connectivity matrix indicates whether node $i$ is connected to node\n",
    "$j$. Thus, this network's connectivity matrix is"
   ]
  },
  {
   "cell_type": "code",
   "execution_count": 3,
   "metadata": {
    "collapsed": true
   },
   "outputs": [],
   "source": [
    "cm = np.array([\n",
    "    [0, 1, 1, 0, 0, 0],\n",
    "    [1, 0, 1, 0, 1, 0],\n",
    "    [1, 1, 0, 0, 0, 0],\n",
    "    [1, 0, 0, 0, 0, 0],\n",
    "    [0, 0, 0, 0, 0, 0],\n",
    "    [0, 0, 0, 0, 0, 0]\n",
    "])"
   ]
  },
  {
   "cell_type": "markdown",
   "metadata": {},
   "source": [
    "Now we can pass the TPM and connectivity matrix as arguments to the\n",
    "network constructor:"
   ]
  },
  {
   "cell_type": "code",
   "execution_count": 4,
   "metadata": {
    "collapsed": true
   },
   "outputs": [],
   "source": [
    "network = pyphi.Network(tpm, connectivity_matrix=cm)"
   ]
  },
  {
   "cell_type": "markdown",
   "metadata": {},
   "source": [
    "Now the network shown in the figure is stored in a variable called\n",
    "`network`. You can find more information about the network object we\n",
    "just created by running the following:"
   ]
  },
  {
   "cell_type": "code",
   "execution_count": 5,
   "metadata": {
    "collapsed": true
   },
   "outputs": [],
   "source": [
    "network?"
   ]
  },
  {
   "cell_type": "markdown",
   "metadata": {},
   "source": [
    "The next step is to define the candidate set shown in the figure,\n",
    "consisting of nodes $A, B$ and $C$. In PyPhi, a candidate set for\n",
    "𝚽 evaluation is represented by the [pyphi.subsystem.Subsystem](http://pyphi.readthedocs.io/en/stable/api/subsystem.html)\n",
    "class. Subsystems are built by giving the network it is a part of, the\n",
    "state of the network, and indices of the nodes to be included in the\n",
    "subsystem. So, we define our candidate set like so:"
   ]
  },
  {
   "cell_type": "code",
   "execution_count": 6,
   "metadata": {
    "collapsed": true
   },
   "outputs": [],
   "source": [
    "state = (1, 0, 0, 0, 1, 0) \n",
    "ABC = pyphi.Subsystem(network, state, [0, 1, 2])"
   ]
  },
  {
   "cell_type": "markdown",
   "metadata": {},
   "source": [
    "For more information on the subsystem object, use `subystem?` or see the [API documentation](http://pyphi.readthedocs.io/en/stable/api/subsystem.html).\n",
    "\n",
    "---\n",
    "\n",
    "That covers the basic workflow with PyPhi and introduces the two types\n",
    "of objects we use to represent and analyze networks. First you define\n",
    "the network of interest with a TPM and connectivity matrix, then you\n",
    "define a candidate set you want to analyze.\n",
    "\n",
    "---\n",
    "\n",
    "\n",
    "Figure 3\n",
    "--------\n",
    "\n",
    "**Information requires selectivity.**\n",
    "\n",
    "### (A)\n",
    "\n",
    "We'll start by setting up the subsytem depicted in the figure and\n",
    "labeling the nodes. In this case, the subsystem is just the entire\n",
    "network."
   ]
  },
  {
   "cell_type": "code",
   "execution_count": 7,
   "metadata": {
    "collapsed": true
   },
   "outputs": [],
   "source": [
    "network = pyphi.examples.fig3a() \n",
    "state = (1, 0, 0, 0) \n",
    "subsystem = pyphi.Subsystem(network, state, range(network.size)) \n",
    "A, B, C, D = subsystem.node_indices"
   ]
  },
  {
   "cell_type": "markdown",
   "metadata": {},
   "source": [
    "Since the connections are noisy, we see that $A = 1$ is unselective; all\n",
    "past states are equally likely:"
   ]
  },
  {
   "cell_type": "code",
   "execution_count": 8,
   "metadata": {
    "collapsed": false
   },
   "outputs": [
    {
     "data": {
      "text/plain": [
       "array([[[[ 0.125,  0.125],\n",
       "         [ 0.125,  0.125]],\n",
       "\n",
       "        [[ 0.125,  0.125],\n",
       "         [ 0.125,  0.125]]]])"
      ]
     },
     "execution_count": 8,
     "metadata": {},
     "output_type": "execute_result"
    }
   ],
   "source": [
    "subsystem.cause_repertoire((A,), (B, C, D))"
   ]
  },
  {
   "cell_type": "markdown",
   "metadata": {},
   "source": [
    "And this gives us zero cause information:"
   ]
  },
  {
   "cell_type": "code",
   "execution_count": 9,
   "metadata": {
    "collapsed": false
   },
   "outputs": [
    {
     "data": {
      "text/plain": [
       "0.0"
      ]
     },
     "execution_count": 9,
     "metadata": {},
     "output_type": "execute_result"
    }
   ],
   "source": [
    "subsystem.cause_info((A,), (B, C, D))"
   ]
  },
  {
   "cell_type": "markdown",
   "metadata": {},
   "source": [
    "### (B)\n",
    "\n",
    "The same as (A) but without noisy connections:"
   ]
  },
  {
   "cell_type": "code",
   "execution_count": 10,
   "metadata": {
    "collapsed": true
   },
   "outputs": [],
   "source": [
    "network = pyphi.examples.fig3b() \n",
    "subsystem = pyphi.Subsystem(network, state, range(network.size)) \n",
    "A, B, C, D = subsystem.node_indices"
   ]
  },
  {
   "cell_type": "markdown",
   "metadata": {},
   "source": [
    "Now, $A$'s cause repertoire is maximally selective."
   ]
  },
  {
   "cell_type": "code",
   "execution_count": 11,
   "metadata": {
    "collapsed": false
   },
   "outputs": [
    {
     "data": {
      "text/plain": [
       "array([[[[ 0.,  0.],\n",
       "         [ 0.,  0.]],\n",
       "\n",
       "        [[ 0.,  0.],\n",
       "         [ 0.,  1.]]]])"
      ]
     },
     "execution_count": 11,
     "metadata": {},
     "output_type": "execute_result"
    }
   ],
   "source": [
    "cr = subsystem.cause_repertoire((A,), (B, C, D))\n",
    "cr"
   ]
  },
  {
   "cell_type": "markdown",
   "metadata": {},
   "source": [
    "Since the cause repertoire is over the purview $BCD$, the first\n",
    "dimension (which corresponds to $A$'s states) is a singleton. We can\n",
    "squeeze out $A$'s singleton dimension with"
   ]
  },
  {
   "cell_type": "code",
   "execution_count": 12,
   "metadata": {
    "collapsed": true
   },
   "outputs": [],
   "source": [
    "cr = cr.squeeze()"
   ]
  },
  {
   "cell_type": "markdown",
   "metadata": {},
   "source": [
    "and now we can see that the probability of $B, C,$ and $D$ having been\n",
    "all on is 1:"
   ]
  },
  {
   "cell_type": "code",
   "execution_count": 13,
   "metadata": {
    "collapsed": false
   },
   "outputs": [
    {
     "data": {
      "text/plain": [
       "1.0"
      ]
     },
     "execution_count": 13,
     "metadata": {},
     "output_type": "execute_result"
    }
   ],
   "source": [
    "cr[(1, 1, 1)]"
   ]
  },
  {
   "cell_type": "markdown",
   "metadata": {},
   "source": [
    "Now the cause information specified by $A = 1$ is $1.5$:"
   ]
  },
  {
   "cell_type": "code",
   "execution_count": 14,
   "metadata": {
    "collapsed": false
   },
   "outputs": [
    {
     "data": {
      "text/plain": [
       "1.5"
      ]
     },
     "execution_count": 14,
     "metadata": {},
     "output_type": "execute_result"
    }
   ],
   "source": [
    "subsystem.cause_info((A,), (B, C, D))"
   ]
  },
  {
   "cell_type": "markdown",
   "metadata": {},
   "source": [
    "### (C)\n",
    "\n",
    "The same as (B) but with $A = 0$:"
   ]
  },
  {
   "cell_type": "code",
   "execution_count": 15,
   "metadata": {
    "collapsed": false
   },
   "outputs": [],
   "source": [
    "state = (0, 0, 0, 0) \n",
    "subsystem = pyphi.Subsystem(network, state, range(network.size)) \n",
    "A, B, C, D = subsystem.node_indices"
   ]
  },
  {
   "cell_type": "markdown",
   "metadata": {},
   "source": [
    "And here the cause repertoire is minimally selective, only ruling out\n",
    "the state where $B, C,$ and $D$ were all on:"
   ]
  },
  {
   "cell_type": "code",
   "execution_count": 16,
   "metadata": {
    "collapsed": false
   },
   "outputs": [
    {
     "data": {
      "text/plain": [
       "array([[[[ 0.14285714,  0.14285714],\n",
       "         [ 0.14285714,  0.14285714]],\n",
       "\n",
       "        [[ 0.14285714,  0.14285714],\n",
       "         [ 0.14285714,  0.        ]]]])"
      ]
     },
     "execution_count": 16,
     "metadata": {},
     "output_type": "execute_result"
    }
   ],
   "source": [
    "subsystem.cause_repertoire((A,), (B, C, D))"
   ]
  },
  {
   "cell_type": "markdown",
   "metadata": {},
   "source": [
    "And so we have less cause information:"
   ]
  },
  {
   "cell_type": "code",
   "execution_count": 17,
   "metadata": {
    "collapsed": false
   },
   "outputs": [
    {
     "data": {
      "text/plain": [
       "0.214284"
      ]
     },
     "execution_count": 17,
     "metadata": {},
     "output_type": "execute_result"
    }
   ],
   "source": [
    "subsystem.cause_info((A,), (B, C, D))"
   ]
  },
  {
   "cell_type": "markdown",
   "metadata": {},
   "source": [
    "---\n",
    "\n",
    "Figure 4\n",
    "--------\n",
    "\n",
    "**Information: “Differences that make a difference to a system from its\n",
    "own intrinsic perspective.”**\n",
    "\n",
    "First we'll get the network from the examples module, set up a\n",
    "subsystem, and label the nodes, as usual:"
   ]
  },
  {
   "cell_type": "code",
   "execution_count": 18,
   "metadata": {
    "collapsed": true
   },
   "outputs": [],
   "source": [
    "network = pyphi.examples.fig4() \n",
    "state = (1, 0, 0) \n",
    "subsystem = pyphi.Subsystem(network, state, range(network.size)) \n",
    "A, B, C = subsystem.node_indices"
   ]
  },
  {
   "cell_type": "markdown",
   "metadata": {},
   "source": [
    "Then we'll compute the cause and effect repertoires of mechanism $A$\n",
    "over purview $ABC$:"
   ]
  },
  {
   "cell_type": "code",
   "execution_count": 19,
   "metadata": {
    "collapsed": false
   },
   "outputs": [
    {
     "data": {
      "text/plain": [
       "array([[[ 0.        ,  0.16666667],\n",
       "        [ 0.16666667,  0.16666667]],\n",
       "\n",
       "       [[ 0.        ,  0.16666667],\n",
       "        [ 0.16666667,  0.16666667]]])"
      ]
     },
     "execution_count": 19,
     "metadata": {},
     "output_type": "execute_result"
    }
   ],
   "source": [
    "subsystem.cause_repertoire((A,), (A, B, C))"
   ]
  },
  {
   "cell_type": "code",
   "execution_count": 20,
   "metadata": {
    "collapsed": false
   },
   "outputs": [
    {
     "data": {
      "text/plain": [
       "array([[[ 0.0625,  0.0625],\n",
       "        [ 0.0625,  0.0625]],\n",
       "\n",
       "       [[ 0.1875,  0.1875],\n",
       "        [ 0.1875,  0.1875]]])"
      ]
     },
     "execution_count": 20,
     "metadata": {},
     "output_type": "execute_result"
    }
   ],
   "source": [
    "subsystem.effect_repertoire((A,), (A, B, C))"
   ]
  },
  {
   "cell_type": "markdown",
   "metadata": {},
   "source": [
    "And the unconstrained repertoires over the same (these functions don't\n",
    "take a mechanism; they only take a purview):"
   ]
  },
  {
   "cell_type": "code",
   "execution_count": 21,
   "metadata": {
    "collapsed": false
   },
   "outputs": [
    {
     "data": {
      "text/plain": [
       "array([[[ 0.125,  0.125],\n",
       "        [ 0.125,  0.125]],\n",
       "\n",
       "       [[ 0.125,  0.125],\n",
       "        [ 0.125,  0.125]]])"
      ]
     },
     "execution_count": 21,
     "metadata": {},
     "output_type": "execute_result"
    }
   ],
   "source": [
    "subsystem.unconstrained_cause_repertoire((A, B, C))"
   ]
  },
  {
   "cell_type": "code",
   "execution_count": 22,
   "metadata": {
    "collapsed": false
   },
   "outputs": [
    {
     "data": {
      "text/plain": [
       "array([[[ 0.09375,  0.09375],\n",
       "        [ 0.03125,  0.03125]],\n",
       "\n",
       "       [[ 0.28125,  0.28125],\n",
       "        [ 0.09375,  0.09375]]])"
      ]
     },
     "execution_count": 22,
     "metadata": {},
     "output_type": "execute_result"
    }
   ],
   "source": [
    "subsystem.unconstrained_effect_repertoire((A, B, C))"
   ]
  },
  {
   "cell_type": "markdown",
   "metadata": {},
   "source": [
    "The Earth Mover's distance between them (using the Hamming distance between states as the ground metric) gives the **cause** and **effect information** (the EMD is available from the `pyphi.utils.hamming_emd`; see the [documentation](http://pyphi.readthedocs.io/en/stable/api/utils.html#pyphi.utils.hamming_emd)):"
   ]
  },
  {
   "cell_type": "code",
   "execution_count": 23,
   "metadata": {
    "collapsed": false
   },
   "outputs": [
    {
     "data": {
      "text/plain": [
       "0.333332"
      ]
     },
     "execution_count": 23,
     "metadata": {},
     "output_type": "execute_result"
    }
   ],
   "source": [
    "subsystem.cause_info((A,), (A, B, C))"
   ]
  },
  {
   "cell_type": "code",
   "execution_count": 24,
   "metadata": {
    "collapsed": false
   },
   "outputs": [
    {
     "data": {
      "text/plain": [
       "0.25"
      ]
     },
     "execution_count": 24,
     "metadata": {},
     "output_type": "execute_result"
    }
   ],
   "source": [
    "subsystem.effect_info((A,), (A, B, C))"
   ]
  },
  {
   "cell_type": "markdown",
   "metadata": {},
   "source": [
    "And the minimum of those gives the **cause-effect information**:"
   ]
  },
  {
   "cell_type": "code",
   "execution_count": 25,
   "metadata": {
    "collapsed": false
   },
   "outputs": [
    {
     "data": {
      "text/plain": [
       "0.25"
      ]
     },
     "execution_count": 25,
     "metadata": {},
     "output_type": "execute_result"
    }
   ],
   "source": [
    "subsystem.cause_effect_info((A,), (A, B, C))"
   ]
  },
  {
   "cell_type": "markdown",
   "metadata": {},
   "source": [
    "---\n",
    "\n",
    "Figure 5\n",
    "--------\n",
    "\n",
    "**A mechanism generates information only if it has both selective causes\n",
    "and selective effects within the system.**\n",
    "\n",
    "### (A)"
   ]
  },
  {
   "cell_type": "code",
   "execution_count": 26,
   "metadata": {
    "collapsed": true
   },
   "outputs": [],
   "source": [
    "network = pyphi.examples.fig5a() \n",
    "state = (1, 1, 1) \n",
    "subsystem = pyphi.Subsystem(network, state, range(network.size)) \n",
    "A, B, C = subsystem.node_indices"
   ]
  },
  {
   "cell_type": "markdown",
   "metadata": {},
   "source": [
    "$A$ has inputs, so its cause repertoire is selective and it has cause\n",
    "information:"
   ]
  },
  {
   "cell_type": "code",
   "execution_count": 27,
   "metadata": {
    "collapsed": false
   },
   "outputs": [
    {
     "data": {
      "text/plain": [
       "array([[[ 0. ,  0. ],\n",
       "        [ 0. ,  0.5]],\n",
       "\n",
       "       [[ 0. ,  0. ],\n",
       "        [ 0. ,  0.5]]])"
      ]
     },
     "execution_count": 27,
     "metadata": {},
     "output_type": "execute_result"
    }
   ],
   "source": [
    "subsystem.cause_repertoire((A,), (A, B, C)) "
   ]
  },
  {
   "cell_type": "code",
   "execution_count": 28,
   "metadata": {
    "collapsed": false
   },
   "outputs": [
    {
     "data": {
      "text/plain": [
       "1.0"
      ]
     },
     "execution_count": 28,
     "metadata": {},
     "output_type": "execute_result"
    }
   ],
   "source": [
    "subsystem.cause_info((A,), (A, B, C))"
   ]
  },
  {
   "cell_type": "markdown",
   "metadata": {},
   "source": [
    "But because it has no outputs, its effect repertoire no different from\n",
    "the unconstrained effect repertoire, so it has no effect information:"
   ]
  },
  {
   "cell_type": "code",
   "execution_count": 29,
   "metadata": {
    "collapsed": false
   },
   "outputs": [
    {
     "data": {
      "text/plain": [
       "True"
      ]
     },
     "execution_count": 29,
     "metadata": {},
     "output_type": "execute_result"
    }
   ],
   "source": [
    "np.array_equal(\n",
    "    subsystem.effect_repertoire((A,), (A, B, C)), \n",
    "    subsystem.unconstrained_effect_repertoire((A, B, C))\n",
    ")"
   ]
  },
  {
   "cell_type": "code",
   "execution_count": 30,
   "metadata": {
    "collapsed": false
   },
   "outputs": [
    {
     "data": {
      "text/plain": [
       "0.0"
      ]
     },
     "execution_count": 30,
     "metadata": {},
     "output_type": "execute_result"
    }
   ],
   "source": [
    "subsystem.effect_info((A,), (A, B, C))"
   ]
  },
  {
   "cell_type": "markdown",
   "metadata": {},
   "source": [
    "And thus its cause effect information is zero."
   ]
  },
  {
   "cell_type": "code",
   "execution_count": 31,
   "metadata": {
    "collapsed": false
   },
   "outputs": [
    {
     "data": {
      "text/plain": [
       "0.0"
      ]
     },
     "execution_count": 31,
     "metadata": {},
     "output_type": "execute_result"
    }
   ],
   "source": [
    "subsystem.cause_effect_info((A,), (A, B, C))"
   ]
  },
  {
   "cell_type": "markdown",
   "metadata": {},
   "source": [
    "### (B)"
   ]
  },
  {
   "cell_type": "code",
   "execution_count": 32,
   "metadata": {
    "collapsed": true
   },
   "outputs": [],
   "source": [
    "network = pyphi.examples.fig5b() \n",
    "state = (1, 0, 0) \n",
    "subsystem = pyphi.Subsystem(network, state, range(network.size)) \n",
    "A, B, C = subsystem.node_indices"
   ]
  },
  {
   "cell_type": "markdown",
   "metadata": {},
   "source": [
    "Symmetrically, $A$ now has outputs, so its effect repertoire is\n",
    "selective and it has effect information:"
   ]
  },
  {
   "cell_type": "code",
   "execution_count": 33,
   "metadata": {
    "collapsed": false
   },
   "outputs": [
    {
     "data": {
      "text/plain": [
       "array([[[ 0.,  0.],\n",
       "        [ 0.,  0.]],\n",
       "\n",
       "       [[ 0.,  0.],\n",
       "        [ 0.,  1.]]])"
      ]
     },
     "execution_count": 33,
     "metadata": {},
     "output_type": "execute_result"
    }
   ],
   "source": [
    "subsystem.effect_repertoire((A,), (A, B, C))"
   ]
  },
  {
   "cell_type": "code",
   "execution_count": 34,
   "metadata": {
    "collapsed": false
   },
   "outputs": [
    {
     "data": {
      "text/plain": [
       "0.5"
      ]
     },
     "execution_count": 34,
     "metadata": {},
     "output_type": "execute_result"
    }
   ],
   "source": [
    "subsystem.effect_info((A,), (A, B, C))"
   ]
  },
  {
   "cell_type": "markdown",
   "metadata": {},
   "source": [
    "But because it now has no inputs, its cause repertoire is no different\n",
    "from the unconstrained effect repertoire, so it has no cause\n",
    "information:"
   ]
  },
  {
   "cell_type": "code",
   "execution_count": 35,
   "metadata": {
    "collapsed": false
   },
   "outputs": [
    {
     "data": {
      "text/plain": [
       "True"
      ]
     },
     "execution_count": 35,
     "metadata": {},
     "output_type": "execute_result"
    }
   ],
   "source": [
    "np.array_equal(\n",
    "    subsystem.cause_repertoire((A,), (A, B, C)),\n",
    "    subsystem.unconstrained_cause_repertoire((A, B, C))\n",
    ")"
   ]
  },
  {
   "cell_type": "markdown",
   "metadata": {},
   "source": [
    "And its cause-effect information is again zero."
   ]
  },
  {
   "cell_type": "code",
   "execution_count": 36,
   "metadata": {
    "collapsed": false
   },
   "outputs": [
    {
     "data": {
      "text/plain": [
       "0.0"
      ]
     },
     "execution_count": 36,
     "metadata": {},
     "output_type": "execute_result"
    }
   ],
   "source": [
    "subsystem.cause_effect_info((A,), (A, B, C))"
   ]
  },
  {
   "cell_type": "markdown",
   "metadata": {},
   "source": [
    "---\n",
    "\n",
    "Figure 6\n",
    "--------\n",
    "\n",
    "**Integrated information: The information generated by the whole that is\n",
    "irreducible to the information generated by its parts.**"
   ]
  },
  {
   "cell_type": "code",
   "execution_count": 37,
   "metadata": {
    "collapsed": true
   },
   "outputs": [],
   "source": [
    "network = pyphi.examples.fig6()\n",
    "state = (1, 0, 0)\n",
    "subsystem = pyphi.Subsystem(network, state, range(network.size))\n",
    "ABC = subsystem.node_indices"
   ]
  },
  {
   "cell_type": "markdown",
   "metadata": {},
   "source": [
    "Here we demonstrate the functions that find the minimum information\n",
    "partition a mechanism over a purview:"
   ]
  },
  {
   "cell_type": "code",
   "execution_count": 38,
   "metadata": {
    "collapsed": true
   },
   "outputs": [],
   "source": [
    "mip_c = subsystem.mip_past(ABC, ABC)\n",
    "mip_e = subsystem.mip_future(ABC, ABC)"
   ]
  },
  {
   "cell_type": "markdown",
   "metadata": {},
   "source": [
    "These objects contain the $\\varphi^{\\textrm{MIP}}_{\\textrm{cause}}$ and\n",
    "$\\varphi^{\\textrm{MIP}}_{\\textrm{effect}}$ values in their respective\n",
    "`phi` attributes, and the minimal partitions in their `partition`\n",
    "attributes:"
   ]
  },
  {
   "cell_type": "code",
   "execution_count": 39,
   "metadata": {
    "collapsed": false
   },
   "outputs": [
    {
     "data": {
      "text/plain": [
       "0.499999"
      ]
     },
     "execution_count": 39,
     "metadata": {},
     "output_type": "execute_result"
    }
   ],
   "source": [
    "mip_c.phi"
   ]
  },
  {
   "cell_type": "code",
   "execution_count": 40,
   "metadata": {
    "collapsed": false
   },
   "outputs": [
    {
     "data": {
      "text/plain": [
       "0     1,2 \n",
       "-- X -----\n",
       "[]   0,1,2"
      ]
     },
     "execution_count": 40,
     "metadata": {},
     "output_type": "execute_result"
    }
   ],
   "source": [
    "mip_c.partition"
   ]
  },
  {
   "cell_type": "code",
   "execution_count": 41,
   "metadata": {
    "collapsed": false
   },
   "outputs": [
    {
     "data": {
      "text/plain": [
       "[]   0,1,2\n",
       "-- X -----\n",
       "1     0,2 "
      ]
     },
     "execution_count": 41,
     "metadata": {},
     "output_type": "execute_result"
    }
   ],
   "source": [
    "mip_e.partition"
   ]
  },
  {
   "cell_type": "markdown",
   "metadata": {},
   "source": [
    "For more information on these objects, see the API documentation for the\n",
    "[pyphi.models.Mip](http://pyphi.readthedocs.io/en/stable/api/models.concept.html#pyphi.models.concept.Mip)\n",
    "class, or use `mip_c?`.\n",
    "\n",
    "Note that the minimal partition found for the past is\n",
    "\n",
    "$$\\frac{A^{c}}{\\left[\\right]} \\times \\frac{BC^{c}}{ABC^{p}},$$\n",
    "\n",
    "rather than the one shown in the figure. However, both partitions result\n",
    "in a difference of $0.5$ between the unpartitioned and partitioned cause\n",
    "repertoires. So we see that in small networks like this, there can be\n",
    "multiple choices of partition that yield the same, minimal\n",
    "$\\varphi^{\\textrm{MIP}}$. In these cases, which partition the software\n",
    "chooses is left undefined.\n",
    "\n",
    "---\n",
    "\n",
    "Figure 7\n",
    "--------\n",
    "\n",
    "**A mechanism generates integrated information only if it has both\n",
    "integrated causes and integrated effects.**\n",
    "\n",
    "It is left as an exercise for the reader to use the subsystem methods\n",
    "`mip_past` and `mip_future`, introduced in the previous section, to\n",
    "demonstrate the points made in Figure 7.\n",
    "\n",
    "To avoid building TPMs and connectivity matrices by hand, one can use\n",
    "the graphical user interface for PyPhi available online at\n",
    "<http://integratedinformationtheory.org/calculate.html>. You can build\n",
    "the networks shown in the figure there, and then use the **Export**\n",
    "button to obtain a [JSON](http://en.wikipedia.org/wiki/JSON) file\n",
    "representing the network. You can then import the file into Python with\n",
    "the `json` module:"
   ]
  },
  {
   "cell_type": "raw",
   "metadata": {
    "attributes": {
     "classes": [
      "sourceCode"
     ],
     "id": ""
    }
   },
   "source": [
    "import json\n",
    "with open('path/to/network.json') as json_file:\n",
    "    network_dictionary = json.load(json_file)"
   ]
  },
  {
   "cell_type": "markdown",
   "metadata": {},
   "source": [
    "The TPM and connectivity matrix can then be looked up with the keys\n",
    "`'tpm'` and `'cm'`:"
   ]
  },
  {
   "cell_type": "raw",
   "metadata": {
    "attributes": {
     "classes": [
      "sourceCode"
     ],
     "id": ""
    }
   },
   "source": [
    "tpm = network_dictionary['tpm']\n",
    "cm = network_dictionary['cm']"
   ]
  },
  {
   "cell_type": "markdown",
   "metadata": {},
   "source": [
    "For your convenience, there is a function that does this for you:"
   ]
  },
  {
   "cell_type": "raw",
   "metadata": {},
   "source": [
    "pyphi.network.from_json('path/to/network.json') "
   ]
  },
  {
   "cell_type": "markdown",
   "metadata": {},
   "source": [
    "which takes a path the JSON file and returns\n",
    "a PyPhi network object.\n",
    "\n",
    "---\n",
    "\n",
    "Figure 8\n",
    "--------\n",
    "\n",
    "**The maximally integrated cause repertoire over the power set of\n",
    "purviews is the “core cause” specified by a mechanism.**"
   ]
  },
  {
   "cell_type": "code",
   "execution_count": 42,
   "metadata": {
    "collapsed": true
   },
   "outputs": [],
   "source": [
    "network = pyphi.examples.fig8()\n",
    "state = (1, 0, 0)\n",
    "subsystem = pyphi.Subsystem(network, state, range(network.size))\n",
    "A, B, C = subsystem.node_indices"
   ]
  },
  {
   "cell_type": "markdown",
   "metadata": {},
   "source": [
    "To find the core cause of a mechanism over all purviews, we just use the\n",
    "subsystem method of that name:"
   ]
  },
  {
   "cell_type": "code",
   "execution_count": 43,
   "metadata": {
    "collapsed": false
   },
   "outputs": [
    {
     "data": {
      "text/plain": [
       "0.333334"
      ]
     },
     "execution_count": 43,
     "metadata": {},
     "output_type": "execute_result"
    }
   ],
   "source": [
    "core_cause = subsystem.core_cause((B, C))\n",
    "core_cause.phi"
   ]
  },
  {
   "cell_type": "markdown",
   "metadata": {},
   "source": [
    "For a detailed description of the objects returned by the\n",
    "`pyphi.subsystem.Subsystem.core_cause` and\n",
    "`pyphi.subsystem.Subsystem.core_effect` methods, see the\n",
    "documentation for [`pyphi.models.Mice`](http://pyphi.readthedocs.io/en/stable/api/models.concept.html#pyphi.models.concept.Mice)\n",
    "or use `core_cause?`.\n",
    "\n",
    "---\n",
    "\n",
    "Figure 9\n",
    "--------\n",
    "\n",
    "**A mechanism that specifies a maximally irreducible cause-effect\n",
    "repertoire.**\n",
    "\n",
    "This figure and the next few use the same network as in Figure 8, so we\n",
    "don't need to reassign the `network` and `subsystem` variables.\n",
    "\n",
    "Together, the core cause and core effect of a mechanism specify a\n",
    "“concept.” In PyPhi, this is represented by the `pyphi.models.Concept`\n",
    "object. Concepts are computed using the `pyphi.subsystem.Subsystem.concept`\n",
    "method of a subsystem:"
   ]
  },
  {
   "cell_type": "code",
   "execution_count": 44,
   "metadata": {
    "collapsed": false
   },
   "outputs": [
    {
     "data": {
      "text/plain": [
       "0.166667"
      ]
     },
     "execution_count": 44,
     "metadata": {},
     "output_type": "execute_result"
    }
   ],
   "source": [
    "concept_A = subsystem.concept((A,))\n",
    "concept_A.phi"
   ]
  },
  {
   "cell_type": "markdown",
   "metadata": {},
   "source": [
    "As usual, please consult the [API documentation](http://pyphi.readthedocs.io/en/stable/api/models.concept.html#pyphi.models.concept.Concept)\n",
    "or use `concept_A?` for a detailed description of the `pyphi.models.Concept` object.\n",
    "\n",
    "---\n",
    "\n",
    "Figure 10\n",
    "---------\n",
    "\n",
    "**Information: A conceptual structure C (constellation of concepts) is\n",
    "the set of all concepts generated by a set of elements in a state.**\n",
    "\n",
    "For functions of entire subsystems rather than mechanisms within them,\n",
    "we use the pyphi.compute module. In this figure, we see the\n",
    "constellation of concepts of the powerset of $ABC$'s mechanisms. We can\n",
    "compute the constellation of the subsystem like so:"
   ]
  },
  {
   "cell_type": "code",
   "execution_count": 45,
   "metadata": {
    "collapsed": true
   },
   "outputs": [],
   "source": [
    "constellation = pyphi.compute.constellation(subsystem)"
   ]
  },
  {
   "cell_type": "markdown",
   "metadata": {},
   "source": [
    "And verify that the $\\varphi$ values match (rounding to two decimal\n",
    "places):"
   ]
  },
  {
   "cell_type": "code",
   "execution_count": 46,
   "metadata": {
    "collapsed": false
   },
   "outputs": [
    {
     "data": {
      "text/plain": [
       "[0.17, 0.17, 0.25, 0.25, 0.33, 0.5]"
      ]
     },
     "execution_count": 46,
     "metadata": {},
     "output_type": "execute_result"
    }
   ],
   "source": [
    "[round(concept.phi, 2) for concept in constellation]"
   ]
  },
  {
   "cell_type": "markdown",
   "metadata": {},
   "source": [
    "The null concept (the small black cross shown in concept-space) is\n",
    "available as an attribute of the subsystem:"
   ]
  },
  {
   "cell_type": "code",
   "execution_count": 47,
   "metadata": {
    "collapsed": false
   },
   "outputs": [
    {
     "data": {
      "text/plain": [
       "0"
      ]
     },
     "execution_count": 47,
     "metadata": {},
     "output_type": "execute_result"
    }
   ],
   "source": [
    "subsystem.null_concept.phi"
   ]
  },
  {
   "cell_type": "markdown",
   "metadata": {},
   "source": [
    "---\n",
    "\n",
    "Figure 11\n",
    "---------\n",
    "\n",
    "**Assessing the conceptual information CI of a conceptual structure\n",
    "(constellation of concepts).**\n",
    "\n",
    "Conceptual information can be computed using the function named, as you\n",
    "might expect, [`pyphi.compute.conceptual_information`](http://pyphi.readthedocs.io/en/latest/api/compute.concept.html#pyphi.compute.concept.conceptual_information):"
   ]
  },
  {
   "cell_type": "code",
   "execution_count": 48,
   "metadata": {
    "collapsed": false
   },
   "outputs": [
    {
     "data": {
      "text/plain": [
       "2.111109"
      ]
     },
     "execution_count": 48,
     "metadata": {},
     "output_type": "execute_result"
    }
   ],
   "source": [
    "pyphi.compute.conceptual_information(subsystem)"
   ]
  },
  {
   "cell_type": "markdown",
   "metadata": {},
   "source": [
    "---\n",
    "\n",
    "Figure 12\n",
    "---------\n",
    "\n",
    "**Assessing the integrated conceptual information Φ of a constellation\n",
    "C.**\n",
    "\n",
    "To calculate $\\Phi^{\\textrm{MIP}}$ for a candidate set, we use the\n",
    "function [`pyphi.compute.big_bip`](http://pyphi.readthedocs.io/en/stable/api/compute.big_phi.html#pyphi.compute.big_phi.big_mip):"
   ]
  },
  {
   "cell_type": "code",
   "execution_count": 49,
   "metadata": {
    "collapsed": true
   },
   "outputs": [],
   "source": [
    "big_mip = pyphi.compute.big_mip(subsystem)"
   ]
  },
  {
   "cell_type": "markdown",
   "metadata": {},
   "source": [
    "The returned value is a large object containing the\n",
    "$\\Phi^{\\textrm{MIP}}$ value, the minimal cut, the constellation of\n",
    "concepts of the whole set and that of the partitioned set\n",
    "$C_{\\rightarrow}^{\\textrm{MIP}}$, the total calculation time, the\n",
    "calculation time for just the unpartitioned constellation, a reference\n",
    "to the subsystem that was analyzed, and a reference to the subsystem\n",
    "with the minimal unidirectional cut applied. For details see the API\n",
    "documentation for [`pyphi.models.BigMip`](http://pyphi.readthedocs.io/en/stable/api/models.big_phi.html#pyphi.models.big_phi.BigMip) or use `help(big_mip)`.\n",
    "\n",
    "We can verify that the $\\Phi^{\\textrm{MIP}}$ value and minimal cut are\n",
    "as shown in the figure:"
   ]
  },
  {
   "cell_type": "code",
   "execution_count": 50,
   "metadata": {
    "collapsed": false
   },
   "outputs": [
    {
     "data": {
      "text/plain": [
       "1.916665"
      ]
     },
     "execution_count": 50,
     "metadata": {},
     "output_type": "execute_result"
    }
   ],
   "source": [
    "big_mip.phi"
   ]
  },
  {
   "cell_type": "code",
   "execution_count": 51,
   "metadata": {
    "collapsed": false
   },
   "outputs": [
    {
     "data": {
      "text/plain": [
       "Cut (0, 1) --//--> (2,)"
      ]
     },
     "execution_count": 51,
     "metadata": {},
     "output_type": "execute_result"
    }
   ],
   "source": [
    "big_mip.cut"
   ]
  },
  {
   "cell_type": "markdown",
   "metadata": {},
   "source": [
    "> **Note:**\n",
    "> The `pyphi.models.Cut` object has two attributes, `severed` and `intact`. The connections going from the nodes in the `severed` set to those in the `intact` set are the connections removed by the cut.\n",
    "\n",
    "---\n",
    "\n",
    "Figure 13\n",
    "---------\n",
    "\n",
    "**A set of elements generates integrated conceptual information Φ only\n",
    "if each subset has both causes and effects in the rest of the set.**\n",
    "\n",
    "It is left as an exercise for the reader to demonstrate that of the\n",
    "networks shown, only **(B)** has $\\Phi > 0$.\n",
    "\n",
    "---\n",
    "\n",
    "Figure 14\n",
    "---------\n",
    "\n",
    "**A complex: A local maximum of integrated conceptual information Φ.**"
   ]
  },
  {
   "cell_type": "code",
   "execution_count": 52,
   "metadata": {
    "collapsed": true
   },
   "outputs": [],
   "source": [
    "network = pyphi.examples.fig14()\n",
    "state = (1, 0, 0, 0, 1, 0)"
   ]
  },
  {
   "cell_type": "markdown",
   "metadata": {},
   "source": [
    "To find the subsystem within a network that is the main complex, we use\n",
    "the function of that name, which returns a [`pyphi.models.BigMip`](http://pyphi.readthedocs.io/en/stable/api/models.big_phi.html#pyphi.models.big_phi.BigMip) object:"
   ]
  },
  {
   "cell_type": "code",
   "execution_count": 53,
   "metadata": {
    "collapsed": true
   },
   "outputs": [],
   "source": [
    "main_complex = pyphi.compute.main_complex(network, state)"
   ]
  },
  {
   "cell_type": "markdown",
   "metadata": {},
   "source": [
    "And we see that the nodes in the complex are indeed $A, B,$ and $C$:"
   ]
  },
  {
   "cell_type": "code",
   "execution_count": 54,
   "metadata": {
    "collapsed": false
   },
   "outputs": [
    {
     "data": {
      "text/plain": [
       "(n0, n1, n2)"
      ]
     },
     "execution_count": 54,
     "metadata": {},
     "output_type": "execute_result"
    }
   ],
   "source": [
    "main_complex.subsystem.nodes"
   ]
  },
  {
   "cell_type": "markdown",
   "metadata": {},
   "source": [
    "---\n",
    "\n",
    "Figure 15\n",
    "---------\n",
    "\n",
    "**A quale: The maximally irreducible conceptual structure (MICS)\n",
    "generated by a complex.**\n",
    "\n",
    "PyPhi does not provide any way to visualize a constellation\n",
    "out-of-the-box, but you can use the visual interface at\n",
    "<http://integratedinformationtheory.org/calculate.html> to view a\n",
    "constellation in a 3D projection of qualia space. The network in the\n",
    "figure is already built for you; click the **Load Example** button and\n",
    "select “IIT 3.0 Paper, Figure 1” (this network is the same as the\n",
    "candidate set in Figure 1).\n",
    "\n",
    "---\n",
    "\n",
    "Figure 16\n",
    "---------\n",
    "\n",
    "**A system can condense into a major complex and minor complexes that\n",
    "may or may not interact with it.**\n",
    "\n",
    "For this figure, we omit nodes $H, I, J, K$ and $L$, since the TPM of\n",
    "the full 12-node network is very large, and the point can be illustrated\n",
    "without them."
   ]
  },
  {
   "cell_type": "code",
   "execution_count": 55,
   "metadata": {
    "collapsed": true
   },
   "outputs": [],
   "source": [
    "network = pyphi.examples.fig16()\n",
    "state = (1, 0, 0, 1, 1, 1, 0)"
   ]
  },
  {
   "cell_type": "markdown",
   "metadata": {},
   "source": [
    "To find the maximal set of non-overlapping complexes that a network\n",
    "condenses into, use [`pyphi.compute.condensed`](http://pyphi.readthedocs.io/en/stable/api/compute.big_phi.html#pyphi.compute.big_phi.condensed):"
   ]
  },
  {
   "cell_type": "code",
   "execution_count": 56,
   "metadata": {
    "collapsed": true
   },
   "outputs": [],
   "source": [
    "condensed = pyphi.compute.condensed(network, state)"
   ]
  },
  {
   "cell_type": "markdown",
   "metadata": {},
   "source": [
    "We find that there are 2 complexes: the major complex $ABC$ with\n",
    "$\\Phi \\approx 1.92$, and a minor complex FG with $\\Phi \\approx 0.069$\n",
    "(note that there is typo in the figure: $FG$'s $\\Phi$ value should be\n",
    "$0.069$). Furthermore, the program has been updated to only consider\n",
    "background conditions of current states, not past states; as a result\n",
    "the minor complex $DE$ shown in the paper no longer exists."
   ]
  },
  {
   "cell_type": "code",
   "execution_count": 57,
   "metadata": {
    "collapsed": false
   },
   "outputs": [
    {
     "data": {
      "text/plain": [
       "2"
      ]
     },
     "execution_count": 57,
     "metadata": {},
     "output_type": "execute_result"
    }
   ],
   "source": [
    "len(condensed)"
   ]
  },
  {
   "cell_type": "code",
   "execution_count": 58,
   "metadata": {
    "collapsed": true
   },
   "outputs": [],
   "source": [
    "ABC, FG = condensed"
   ]
  },
  {
   "cell_type": "code",
   "execution_count": 59,
   "metadata": {
    "collapsed": false
   },
   "outputs": [
    {
     "data": {
      "text/plain": [
       "((n0, n1, n2), 1.916665)"
      ]
     },
     "execution_count": 59,
     "metadata": {},
     "output_type": "execute_result"
    }
   ],
   "source": [
    "(ABC.subsystem.nodes, ABC.phi)"
   ]
  },
  {
   "cell_type": "code",
   "execution_count": 60,
   "metadata": {
    "collapsed": false
   },
   "outputs": [
    {
     "data": {
      "text/plain": [
       "((n5, n6), 0.069445)"
      ]
     },
     "execution_count": 60,
     "metadata": {},
     "output_type": "execute_result"
    }
   ],
   "source": [
    "(FG.subsystem.nodes, FG.phi)"
   ]
  },
  {
   "cell_type": "markdown",
   "metadata": {},
   "source": [
    "There are several other functions available for working with complexes;\n",
    "see the documentation for \n",
    "[`pyphi.compute.subsystems`](http://pyphi.readthedocs.io/en/stable/api/compute.big_phi.html#pyphi.compute.big_phi.subsystems),\n",
    "[`pyphi.compute.all_complexes`](http://pyphi.readthedocs.io/en/stable/api/compute.big_phi.html#pyphi.compute.big_phi.all_complexes), \n",
    "[`pyphi.compute.possible_complexes`](http://pyphi.readthedocs.io/en/stable/api/compute.big_phi.html#pyphi.compute.big_phi.possible_complexes), and\n",
    "[`pyphi.compute.complexes`](http://pyphi.readthedocs.io/en/stable/api/compute.big_phi.html#pyphi.compute.big_phi.complexes)."
   ]
  }
 ],
 "metadata": {
  "kernelspec": {
   "display_name": "Python 3",
   "language": "python",
   "name": "python3"
  },
  "language_info": {
   "codemirror_mode": {
    "name": "ipython",
    "version": 3
   },
   "file_extension": ".py",
   "mimetype": "text/x-python",
   "name": "python",
   "nbconvert_exporter": "python",
   "pygments_lexer": "ipython3",
   "version": "3.4.2"
  }
 },
 "nbformat": 4,
 "nbformat_minor": 0
}
